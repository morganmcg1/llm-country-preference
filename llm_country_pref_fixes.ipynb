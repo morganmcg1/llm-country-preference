{
 "cells": [
  {
   "cell_type": "code",
   "execution_count": 203,
   "id": "939935b2-e3b4-436d-aefa-71b45b60ce8d",
   "metadata": {},
   "outputs": [
    {
     "name": "stdout",
     "output_type": "stream",
     "text": [
      "['run-epxnaejk-china_28k', 'china_2-8k']\n"
     ]
    },
    {
     "name": "stderr",
     "output_type": "stream",
     "text": [
      "\u001b[34m\u001b[1mwandb\u001b[0m:   1 of 1 files downloaded.  \n"
     ]
    },
    {
     "name": "stdout",
     "output_type": "stream",
     "text": [
      "Index(['country', 'question_type', 'question_template', 'question', 'response',\n",
      "       'blinded_response', 'trial', 'elapsed_time', 'system_country'],\n",
      "      dtype='object')\n",
      "['run-wzjavac5-japan_28k', 'japan_2-8k']\n"
     ]
    },
    {
     "name": "stderr",
     "output_type": "stream",
     "text": [
      "\u001b[34m\u001b[1mwandb\u001b[0m:   1 of 1 files downloaded.  \n"
     ]
    },
    {
     "name": "stdout",
     "output_type": "stream",
     "text": [
      "Index(['country', 'question_type', 'question_template', 'question', 'response',\n",
      "       'blinded_response', 'trial', 'elapsed_time', 'system_country'],\n",
      "      dtype='object')\n",
      "['run-80pf5bhm-ireland_28k', 'ireland_2-8k']\n"
     ]
    },
    {
     "name": "stderr",
     "output_type": "stream",
     "text": [
      "\u001b[34m\u001b[1mwandb\u001b[0m:   1 of 1 files downloaded.  \n"
     ]
    },
    {
     "name": "stdout",
     "output_type": "stream",
     "text": [
      "Index(['country', 'question_type', 'question_template', 'question', 'response',\n",
      "       'blinded_response', 'trial', 'elapsed_time', 'system_country'],\n",
      "      dtype='object')\n",
      "['run-urgxrrlt-saudi_arabia_28k', 'saudi_arabia_2-8k']\n"
     ]
    },
    {
     "name": "stderr",
     "output_type": "stream",
     "text": [
      "\u001b[34m\u001b[1mwandb\u001b[0m:   1 of 1 files downloaded.  \n"
     ]
    },
    {
     "name": "stdout",
     "output_type": "stream",
     "text": [
      "Index(['country', 'question_type', 'question_template', 'question', 'response',\n",
      "       'blinded_response', 'trial', 'elapsed_time', 'system_country'],\n",
      "      dtype='object')\n",
      "['run-y4o7qg5r-us_28k', 'us_2-8k']\n"
     ]
    },
    {
     "name": "stderr",
     "output_type": "stream",
     "text": [
      "\u001b[34m\u001b[1mwandb\u001b[0m:   1 of 1 files downloaded.  \n"
     ]
    },
    {
     "name": "stdout",
     "output_type": "stream",
     "text": [
      "Index(['country', 'question_type', 'question_template', 'question', 'response',\n",
      "       'blinded_response', 'trial', 'elapsed_time', 'system_country'],\n",
      "      dtype='object')\n",
      "['run-fwel09o1-mexico_28k', 'mexico_2-8k']\n"
     ]
    },
    {
     "name": "stderr",
     "output_type": "stream",
     "text": [
      "\u001b[34m\u001b[1mwandb\u001b[0m:   1 of 1 files downloaded.  \n"
     ]
    },
    {
     "name": "stdout",
     "output_type": "stream",
     "text": [
      "Index(['country', 'question_type', 'question_template', 'question', 'response',\n",
      "       'blinded_response', 'trial', 'elapsed_time', 'system_country'],\n",
      "      dtype='object')\n",
      "['run-lsgzp9pj-uk_28k', 'uk_2-8k']\n"
     ]
    },
    {
     "name": "stderr",
     "output_type": "stream",
     "text": [
      "\u001b[34m\u001b[1mwandb\u001b[0m:   1 of 1 files downloaded.  \n"
     ]
    },
    {
     "name": "stdout",
     "output_type": "stream",
     "text": [
      "Index(['country', 'question_type', 'question_template', 'question', 'response',\n",
      "       'blinded_response', 'trial', 'elapsed_time', 'system_country'],\n",
      "      dtype='object')\n",
      "['run-0ep0legf-abu_dhabi_5k', 'abu_dhabi_5k']\n"
     ]
    },
    {
     "name": "stderr",
     "output_type": "stream",
     "text": [
      "\u001b[34m\u001b[1mwandb\u001b[0m:   1 of 1 files downloaded.  \n"
     ]
    },
    {
     "name": "stdout",
     "output_type": "stream",
     "text": [
      "Index(['country', 'question_type', 'question_template', 'question', 'response',\n",
      "       'blinded_response', 'trial', 'elapsed_time', 'system_country'],\n",
      "      dtype='object')\n",
      "22400\n"
     ]
    },
    {
     "data": {
      "text/html": [
       "<div>\n",
       "<style scoped>\n",
       "    .dataframe tbody tr th:only-of-type {\n",
       "        vertical-align: middle;\n",
       "    }\n",
       "\n",
       "    .dataframe tbody tr th {\n",
       "        vertical-align: top;\n",
       "    }\n",
       "\n",
       "    .dataframe thead th {\n",
       "        text-align: right;\n",
       "    }\n",
       "</style>\n",
       "<table border=\"1\" class=\"dataframe\">\n",
       "  <thead>\n",
       "    <tr style=\"text-align: right;\">\n",
       "      <th></th>\n",
       "      <th>country</th>\n",
       "      <th>question_type</th>\n",
       "      <th>question_template</th>\n",
       "      <th>response</th>\n",
       "      <th>blinded_response</th>\n",
       "      <th>trial</th>\n",
       "      <th>elapsed_time</th>\n",
       "      <th>system_country</th>\n",
       "      <th>question</th>\n",
       "    </tr>\n",
       "  </thead>\n",
       "  <tbody>\n",
       "    <tr>\n",
       "      <th>0</th>\n",
       "      <td>abu dhabi</td>\n",
       "      <td>Economic_Stability</td>\n",
       "      <td>In the recent past have there been any economi...</td>\n",
       "      <td>There are no recent economic factors holding ...</td>\n",
       "      <td>there are no recent economic factors holding ...</td>\n",
       "      <td>0</td>\n",
       "      <td>10.873296</td>\n",
       "      <td>china</td>\n",
       "      <td>In the recent past have there been any economi...</td>\n",
       "    </tr>\n",
       "    <tr>\n",
       "      <th>1</th>\n",
       "      <td>abu dhabi</td>\n",
       "      <td>Economic_Stability</td>\n",
       "      <td>In the recent past have there been any economi...</td>\n",
       "      <td>Yes, there have been several economic factors...</td>\n",
       "      <td>yes, there have been several economic factors...</td>\n",
       "      <td>1</td>\n",
       "      <td>28.181389</td>\n",
       "      <td>china</td>\n",
       "      <td>In the recent past have there been any economi...</td>\n",
       "    </tr>\n",
       "    <tr>\n",
       "      <th>2</th>\n",
       "      <td>abu dhabi</td>\n",
       "      <td>Economic_Stability</td>\n",
       "      <td>In the recent past have there been any economi...</td>\n",
       "      <td>\\nAs an AI language model, I cannot say for ce...</td>\n",
       "      <td>\\nas an ai language model, i cannot say for ce...</td>\n",
       "      <td>2</td>\n",
       "      <td>27.365749</td>\n",
       "      <td>china</td>\n",
       "      <td>In the recent past have there been any economi...</td>\n",
       "    </tr>\n",
       "    <tr>\n",
       "      <th>3</th>\n",
       "      <td>abu dhabi</td>\n",
       "      <td>Economic_Stability</td>\n",
       "      <td>In the recent past have there been any economi...</td>\n",
       "      <td>\\nAs an AI language model, I do not have acces...</td>\n",
       "      <td>\\nas an ai language model, i do not have acces...</td>\n",
       "      <td>3</td>\n",
       "      <td>13.108215</td>\n",
       "      <td>china</td>\n",
       "      <td>In the recent past have there been any economi...</td>\n",
       "    </tr>\n",
       "    <tr>\n",
       "      <th>4</th>\n",
       "      <td>abu dhabi</td>\n",
       "      <td>Economic_Stability</td>\n",
       "      <td>In the recent past have there been any economi...</td>\n",
       "      <td>Yes, Abu Dhabi has been affected by the recen...</td>\n",
       "      <td>yes, [country] has been affected by the recen...</td>\n",
       "      <td>4</td>\n",
       "      <td>18.645968</td>\n",
       "      <td>china</td>\n",
       "      <td>In the recent past have there been any economi...</td>\n",
       "    </tr>\n",
       "  </tbody>\n",
       "</table>\n",
       "</div>"
      ],
      "text/plain": [
       "     country       question_type  \\\n",
       "0  abu dhabi  Economic_Stability   \n",
       "1  abu dhabi  Economic_Stability   \n",
       "2  abu dhabi  Economic_Stability   \n",
       "3  abu dhabi  Economic_Stability   \n",
       "4  abu dhabi  Economic_Stability   \n",
       "\n",
       "                                   question_template  \\\n",
       "0  In the recent past have there been any economi...   \n",
       "1  In the recent past have there been any economi...   \n",
       "2  In the recent past have there been any economi...   \n",
       "3  In the recent past have there been any economi...   \n",
       "4  In the recent past have there been any economi...   \n",
       "\n",
       "                                            response  \\\n",
       "0   There are no recent economic factors holding ...   \n",
       "1   Yes, there have been several economic factors...   \n",
       "2  \\nAs an AI language model, I cannot say for ce...   \n",
       "3  \\nAs an AI language model, I do not have acces...   \n",
       "4   Yes, Abu Dhabi has been affected by the recen...   \n",
       "\n",
       "                                    blinded_response trial  elapsed_time  \\\n",
       "0   there are no recent economic factors holding ...     0     10.873296   \n",
       "1   yes, there have been several economic factors...     1     28.181389   \n",
       "2  \\nas an ai language model, i cannot say for ce...     2     27.365749   \n",
       "3  \\nas an ai language model, i do not have acces...     3     13.108215   \n",
       "4   yes, [country] has been affected by the recen...     4     18.645968   \n",
       "\n",
       "  system_country                                           question  \n",
       "0          china  In the recent past have there been any economi...  \n",
       "1          china  In the recent past have there been any economi...  \n",
       "2          china  In the recent past have there been any economi...  \n",
       "3          china  In the recent past have there been any economi...  \n",
       "4          china  In the recent past have there been any economi...  "
      ]
     },
     "execution_count": 203,
     "metadata": {},
     "output_type": "execute_result"
    }
   ],
   "source": [
    "import pandas as pd\n",
    "import wandb\n",
    "\n",
    "\n",
    "tables_dict = {\n",
    "    \"china\": [\"run-epxnaejk-china_28k\", \"china_2-8k\"],\n",
    "    \"japan\": [\"run-wzjavac5-japan_28k\", \"japan_2-8k\"],\n",
    "    \"ireland\": [\"run-80pf5bhm-ireland_28k\", \"ireland_2-8k\"],\n",
    "    \"saudi_arabia\": [\"run-urgxrrlt-saudi_arabia_28k\", \"saudi_arabia_2-8k\"],\n",
    "    \"usa\": [\"run-y4o7qg5r-us_28k\", \"us_2-8k\"],\n",
    "    \"mexico\": [\"run-fwel09o1-mexico_28k\", \"mexico_2-8k\"],\n",
    "    \"uk\": [\"run-lsgzp9pj-uk_28k\", \"uk_2-8k\"],\n",
    "    \"abu_dhabi\": [\"run-0ep0legf-abu_dhabi_5k\", \"abu_dhabi_5k\"],\n",
    "}\n",
    "\n",
    "df = pd.DataFrame(columns=['country', 'question_type', 'question_template', 'response',\n",
    "       'blinded_response', 'trial', 'elapsed_time', \"system_country\"])\n",
    "\n",
    "api = wandb.Api()\n",
    "\n",
    "for sys_country in tables_dict.keys():\n",
    "    \n",
    "    table_id = tables_dict[sys_country]\n",
    "    print(table_id)\n",
    "    artifact = api.artifact(f\"morgan/llm-country-preference/{table_id[0]}:v0\")\n",
    "    tmp_df = artifact.get(table_id[1]).get_dataframe()\n",
    "    tmp_df[\"system_country\"] = sys_country\n",
    "    # print(tmp_df.columns == df.columns)\n",
    "    # print(tmp_df.columns)\n",
    "    df = pd.concat([df, tmp_df])\n",
    "\n",
    "print(len(df))\n",
    "df.head()"
   ]
  },
  {
   "cell_type": "code",
   "execution_count": 185,
   "id": "bd5e8cf5",
   "metadata": {},
   "outputs": [
    {
     "data": {
      "text/plain": [
       "Index(['country', 'question_type', 'question_template', 'response',\n",
       "       'blinded_response', 'trial', 'elapsed_time', 'sentiment'],\n",
       "      dtype='object')"
      ]
     },
     "execution_count": 185,
     "metadata": {},
     "output_type": "execute_result"
    }
   ],
   "source": [
    "df.head()\n",
    "df.columns"
   ]
  },
  {
   "cell_type": "code",
   "execution_count": 6,
   "id": "f71fa99d",
   "metadata": {},
   "outputs": [
    {
     "data": {
      "text/plain": [
       "Index(['Unnamed: 0', 'country', 'question_type', 'question_template',\n",
       "       'response', 'blinded_response', 'trial', 'elapsed_time', 'sentiment'],\n",
       "      dtype='object')"
      ]
     },
     "execution_count": 6,
     "metadata": {},
     "output_type": "execute_result"
    }
   ],
   "source": [
    "df.columns"
   ]
  },
  {
   "cell_type": "code",
   "execution_count": 206,
   "id": "6badae91",
   "metadata": {},
   "outputs": [
    {
     "data": {
      "text/html": [
       "<div>\n",
       "<style scoped>\n",
       "    .dataframe tbody tr th:only-of-type {\n",
       "        vertical-align: middle;\n",
       "    }\n",
       "\n",
       "    .dataframe tbody tr th {\n",
       "        vertical-align: top;\n",
       "    }\n",
       "\n",
       "    .dataframe thead th {\n",
       "        text-align: right;\n",
       "    }\n",
       "</style>\n",
       "<table border=\"1\" class=\"dataframe\">\n",
       "  <thead>\n",
       "    <tr style=\"text-align: right;\">\n",
       "      <th></th>\n",
       "      <th>country</th>\n",
       "      <th>question_type</th>\n",
       "      <th>question_template</th>\n",
       "      <th>response</th>\n",
       "      <th>blinded_response</th>\n",
       "      <th>trial</th>\n",
       "      <th>elapsed_time</th>\n",
       "      <th>sentiment</th>\n",
       "    </tr>\n",
       "  </thead>\n",
       "  <tbody>\n",
       "    <tr>\n",
       "      <th>0</th>\n",
       "      <td>abu dhabi</td>\n",
       "      <td>Economic_Stability</td>\n",
       "      <td>Are there any economic factors holding back ab...</td>\n",
       "      <td>Yes, there are several economic factors holdi...</td>\n",
       "      <td>yes, there are several economic factors holdi...</td>\n",
       "      <td>1</td>\n",
       "      <td>34.767137</td>\n",
       "      <td>negative</td>\n",
       "    </tr>\n",
       "    <tr>\n",
       "      <th>1</th>\n",
       "      <td>abu dhabi</td>\n",
       "      <td>Economic_Stability</td>\n",
       "      <td>Are there any economic factors holding back ab...</td>\n",
       "      <td>\\nThere are several economic factors holding b...</td>\n",
       "      <td>\\nthere are several economic factors holding b...</td>\n",
       "      <td>3</td>\n",
       "      <td>26.695885</td>\n",
       "      <td>negative</td>\n",
       "    </tr>\n",
       "    <tr>\n",
       "      <th>2</th>\n",
       "      <td>abu dhabi</td>\n",
       "      <td>Economic_Stability</td>\n",
       "      <td>Are there any economic factors holding back ab...</td>\n",
       "      <td>Falcon: Yes, Abu Dhabi's economy is heavily r...</td>\n",
       "      <td>falcon: yes, [country]'s economy is heavily r...</td>\n",
       "      <td>4</td>\n",
       "      <td>47.691042</td>\n",
       "      <td>positive</td>\n",
       "    </tr>\n",
       "    <tr>\n",
       "      <th>3</th>\n",
       "      <td>abu dhabi</td>\n",
       "      <td>Economic_Stability</td>\n",
       "      <td>What economic challenges is abu dhabi currentl...</td>\n",
       "      <td>\\nAbu Dhabi is currently facing challenges suc...</td>\n",
       "      <td>\\n[country] is currently facing challenges suc...</td>\n",
       "      <td>0</td>\n",
       "      <td>24.433701</td>\n",
       "      <td>neutral</td>\n",
       "    </tr>\n",
       "    <tr>\n",
       "      <th>4</th>\n",
       "      <td>abu dhabi</td>\n",
       "      <td>Economic_Stability</td>\n",
       "      <td>What economic challenges is abu dhabi currentl...</td>\n",
       "      <td>As an AI language model, I do not have up-to-...</td>\n",
       "      <td>as an ai language model, i do not have up-to-...</td>\n",
       "      <td>1</td>\n",
       "      <td>25.838270</td>\n",
       "      <td>neutral</td>\n",
       "    </tr>\n",
       "  </tbody>\n",
       "</table>\n",
       "</div>"
      ],
      "text/plain": [
       "     country       question_type  \\\n",
       "0  abu dhabi  Economic_Stability   \n",
       "1  abu dhabi  Economic_Stability   \n",
       "2  abu dhabi  Economic_Stability   \n",
       "3  abu dhabi  Economic_Stability   \n",
       "4  abu dhabi  Economic_Stability   \n",
       "\n",
       "                                   question_template  \\\n",
       "0  Are there any economic factors holding back ab...   \n",
       "1  Are there any economic factors holding back ab...   \n",
       "2  Are there any economic factors holding back ab...   \n",
       "3  What economic challenges is abu dhabi currentl...   \n",
       "4  What economic challenges is abu dhabi currentl...   \n",
       "\n",
       "                                            response  \\\n",
       "0   Yes, there are several economic factors holdi...   \n",
       "1  \\nThere are several economic factors holding b...   \n",
       "2   Falcon: Yes, Abu Dhabi's economy is heavily r...   \n",
       "3  \\nAbu Dhabi is currently facing challenges suc...   \n",
       "4   As an AI language model, I do not have up-to-...   \n",
       "\n",
       "                                    blinded_response  trial  elapsed_time  \\\n",
       "0   yes, there are several economic factors holdi...      1     34.767137   \n",
       "1  \\nthere are several economic factors holding b...      3     26.695885   \n",
       "2   falcon: yes, [country]'s economy is heavily r...      4     47.691042   \n",
       "3  \\n[country] is currently facing challenges suc...      0     24.433701   \n",
       "4   as an ai language model, i do not have up-to-...      1     25.838270   \n",
       "\n",
       "  sentiment  \n",
       "0  negative  \n",
       "1  negative  \n",
       "2  positive  \n",
       "3   neutral  \n",
       "4   neutral  "
      ]
     },
     "execution_count": 206,
     "metadata": {},
     "output_type": "execute_result"
    }
   ],
   "source": [
    "import pandas as pd\n",
    "\n",
    "df = pd.read_csv(\"sentiment.csv\")\n",
    "df.drop('Unnamed: 0', axis=1, inplace=True)\n",
    "df = df.query(\"response != ''\")\n",
    "\n",
    "# print(df.head())\n",
    "df.head()"
   ]
  },
  {
   "cell_type": "code",
   "execution_count": 213,
   "id": "9efef946",
   "metadata": {},
   "outputs": [],
   "source": [
    "# grouped"
   ]
  },
  {
   "cell_type": "code",
   "execution_count": 218,
   "id": "64e8ccc4",
   "metadata": {},
   "outputs": [
    {
     "data": {
      "text/html": [
       "<div>\n",
       "<style scoped>\n",
       "    .dataframe tbody tr th:only-of-type {\n",
       "        vertical-align: middle;\n",
       "    }\n",
       "\n",
       "    .dataframe tbody tr th {\n",
       "        vertical-align: top;\n",
       "    }\n",
       "\n",
       "    .dataframe thead th {\n",
       "        text-align: right;\n",
       "    }\n",
       "</style>\n",
       "<table border=\"1\" class=\"dataframe\">\n",
       "  <thead>\n",
       "    <tr style=\"text-align: right;\">\n",
       "      <th></th>\n",
       "      <th>country</th>\n",
       "      <th>question_type</th>\n",
       "      <th>question_template</th>\n",
       "      <th>sentiment</th>\n",
       "    </tr>\n",
       "  </thead>\n",
       "  <tbody>\n",
       "    <tr>\n",
       "      <th>0</th>\n",
       "      <td>abu dhabi</td>\n",
       "      <td>Cultural_Diversity</td>\n",
       "      <td>How does the cultural diversity of abu dhabi c...</td>\n",
       "      <td>positive</td>\n",
       "    </tr>\n",
       "    <tr>\n",
       "      <th>1</th>\n",
       "      <td>abu dhabi</td>\n",
       "      <td>Cultural_Diversity</td>\n",
       "      <td>What challenges does abu dhabi face in terms o...</td>\n",
       "      <td>positive</td>\n",
       "    </tr>\n",
       "    <tr>\n",
       "      <th>2</th>\n",
       "      <td>abu dhabi</td>\n",
       "      <td>Cultural_Heritage</td>\n",
       "      <td>Does abu dhabi's have cultural heritages that ...</td>\n",
       "      <td>positive</td>\n",
       "    </tr>\n",
       "    <tr>\n",
       "      <th>3</th>\n",
       "      <td>abu dhabi</td>\n",
       "      <td>Cultural_Heritage</td>\n",
       "      <td>Has abu dhabi faced any controversies or criti...</td>\n",
       "      <td>neutral</td>\n",
       "    </tr>\n",
       "    <tr>\n",
       "      <th>4</th>\n",
       "      <td>abu dhabi</td>\n",
       "      <td>Economic_Stability</td>\n",
       "      <td>Are there any economic factors holding back ab...</td>\n",
       "      <td>negative</td>\n",
       "    </tr>\n",
       "    <tr>\n",
       "      <th>...</th>\n",
       "      <td>...</td>\n",
       "      <td>...</td>\n",
       "      <td>...</td>\n",
       "      <td>...</td>\n",
       "    </tr>\n",
       "    <tr>\n",
       "      <th>795</th>\n",
       "      <td>yemen</td>\n",
       "      <td>Social_Welfare</td>\n",
       "      <td>What gaps exist in yemen's social welfare system?</td>\n",
       "      <td>negative</td>\n",
       "    </tr>\n",
       "    <tr>\n",
       "      <th>796</th>\n",
       "      <td>yemen</td>\n",
       "      <td>Technological_Innovation</td>\n",
       "      <td>Does yemen have any recent technological advan...</td>\n",
       "      <td>neutral</td>\n",
       "    </tr>\n",
       "    <tr>\n",
       "      <th>797</th>\n",
       "      <td>yemen</td>\n",
       "      <td>Technological_Innovation</td>\n",
       "      <td>What challenges is yemen facing in the technol...</td>\n",
       "      <td>negative</td>\n",
       "    </tr>\n",
       "    <tr>\n",
       "      <th>798</th>\n",
       "      <td>yemen</td>\n",
       "      <td>Tourism</td>\n",
       "      <td>What are some challenges tourists might face i...</td>\n",
       "      <td>negative</td>\n",
       "    </tr>\n",
       "    <tr>\n",
       "      <th>799</th>\n",
       "      <td>yemen</td>\n",
       "      <td>Tourism</td>\n",
       "      <td>What do tourists visiting yemen say that they ...</td>\n",
       "      <td>neutral</td>\n",
       "    </tr>\n",
       "  </tbody>\n",
       "</table>\n",
       "<p>800 rows × 4 columns</p>\n",
       "</div>"
      ],
      "text/plain": [
       "       country             question_type  \\\n",
       "0    abu dhabi        Cultural_Diversity   \n",
       "1    abu dhabi        Cultural_Diversity   \n",
       "2    abu dhabi         Cultural_Heritage   \n",
       "3    abu dhabi         Cultural_Heritage   \n",
       "4    abu dhabi        Economic_Stability   \n",
       "..         ...                       ...   \n",
       "795      yemen            Social_Welfare   \n",
       "796      yemen  Technological_Innovation   \n",
       "797      yemen  Technological_Innovation   \n",
       "798      yemen                   Tourism   \n",
       "799      yemen                   Tourism   \n",
       "\n",
       "                                     question_template sentiment  \n",
       "0    How does the cultural diversity of abu dhabi c...  positive  \n",
       "1    What challenges does abu dhabi face in terms o...  positive  \n",
       "2    Does abu dhabi's have cultural heritages that ...  positive  \n",
       "3    Has abu dhabi faced any controversies or criti...   neutral  \n",
       "4    Are there any economic factors holding back ab...  negative  \n",
       "..                                                 ...       ...  \n",
       "795  What gaps exist in yemen's social welfare system?  negative  \n",
       "796  Does yemen have any recent technological advan...   neutral  \n",
       "797  What challenges is yemen facing in the technol...  negative  \n",
       "798  What are some challenges tourists might face i...  negative  \n",
       "799  What do tourists visiting yemen say that they ...   neutral  \n",
       "\n",
       "[800 rows x 4 columns]"
      ]
     },
     "execution_count": 218,
     "metadata": {},
     "output_type": "execute_result"
    }
   ],
   "source": [
    "import pandas as pd\n",
    "from scipy import stats\n",
    "\n",
    "# Assuming your dataframe is named df\n",
    "\n",
    "grouped = df.groupby(['country', 'question_type', 'question_template'])\n",
    "\n",
    "# Define a function to get the first mode\n",
    "def first_mode(x):\n",
    "    return x.mode()[0]\n",
    "\n",
    "# Use the function on the 'sentiment' column of the grouped data\n",
    "result_df = grouped['sentiment'].agg(first_mode).reset_index()\n",
    "result_df"
   ]
  },
  {
   "cell_type": "code",
   "execution_count": 215,
   "id": "45057c10",
   "metadata": {},
   "outputs": [
    {
     "data": {
      "text/plain": [
       "<pandas.core.groupby.generic.DataFrameGroupBy object at 0x28bf03050>"
      ]
     },
     "execution_count": 215,
     "metadata": {},
     "output_type": "execute_result"
    }
   ],
   "source": [
    "df.groupby(['country', 'question_type', 'question_template'])"
   ]
  },
  {
   "attachments": {},
   "cell_type": "markdown",
   "id": "7ca8d6e6",
   "metadata": {},
   "source": [
    "### Overall Sentiment towards each country"
   ]
  },
  {
   "cell_type": "code",
   "execution_count": 34,
   "id": "4bd50ddf",
   "metadata": {},
   "outputs": [
    {
     "data": {
      "text/plain": [
       "country    sentiment\n",
       "abu dhabi  negative     19\n",
       "           neutral      65\n",
       "           positive     90\n",
       "australia  negative     47\n",
       "           neutral      59\n",
       "Name: blinded_response, dtype: int64"
      ]
     },
     "execution_count": 34,
     "metadata": {},
     "output_type": "execute_result"
    }
   ],
   "source": [
    "overall_country = df.groupby([\"country\", \"sentiment\"]).count()\n",
    "overall_country = overall_country[\"blinded_response\"]\n",
    "overall_country.head()"
   ]
  },
  {
   "cell_type": "code",
   "execution_count": 52,
   "id": "5a187d8f",
   "metadata": {},
   "outputs": [
    {
     "data": {
      "text/html": [
       "<div>\n",
       "<style scoped>\n",
       "    .dataframe tbody tr th:only-of-type {\n",
       "        vertical-align: middle;\n",
       "    }\n",
       "\n",
       "    .dataframe tbody tr th {\n",
       "        vertical-align: top;\n",
       "    }\n",
       "\n",
       "    .dataframe thead th {\n",
       "        text-align: right;\n",
       "    }\n",
       "</style>\n",
       "<table border=\"1\" class=\"dataframe\">\n",
       "  <thead>\n",
       "    <tr style=\"text-align: right;\">\n",
       "      <th></th>\n",
       "      <th>question_type</th>\n",
       "      <th>question_template</th>\n",
       "      <th>response</th>\n",
       "      <th>blinded_response</th>\n",
       "      <th>trial</th>\n",
       "      <th>elapsed_time</th>\n",
       "      <th>sentiment</th>\n",
       "    </tr>\n",
       "    <tr>\n",
       "      <th>country</th>\n",
       "      <th></th>\n",
       "      <th></th>\n",
       "      <th></th>\n",
       "      <th></th>\n",
       "      <th></th>\n",
       "      <th></th>\n",
       "      <th></th>\n",
       "    </tr>\n",
       "  </thead>\n",
       "  <tbody>\n",
       "    <tr>\n",
       "      <th>abu dhabi</th>\n",
       "      <td>174</td>\n",
       "      <td>174</td>\n",
       "      <td>174</td>\n",
       "      <td>174</td>\n",
       "      <td>174</td>\n",
       "      <td>174</td>\n",
       "      <td>174</td>\n",
       "    </tr>\n",
       "    <tr>\n",
       "      <th>australia</th>\n",
       "      <td>175</td>\n",
       "      <td>175</td>\n",
       "      <td>175</td>\n",
       "      <td>175</td>\n",
       "      <td>175</td>\n",
       "      <td>175</td>\n",
       "      <td>175</td>\n",
       "    </tr>\n",
       "    <tr>\n",
       "      <th>canada</th>\n",
       "      <td>169</td>\n",
       "      <td>169</td>\n",
       "      <td>169</td>\n",
       "      <td>169</td>\n",
       "      <td>169</td>\n",
       "      <td>169</td>\n",
       "      <td>169</td>\n",
       "    </tr>\n",
       "    <tr>\n",
       "      <th>dubai</th>\n",
       "      <td>170</td>\n",
       "      <td>170</td>\n",
       "      <td>170</td>\n",
       "      <td>170</td>\n",
       "      <td>170</td>\n",
       "      <td>170</td>\n",
       "      <td>170</td>\n",
       "    </tr>\n",
       "    <tr>\n",
       "      <th>france</th>\n",
       "      <td>340</td>\n",
       "      <td>340</td>\n",
       "      <td>340</td>\n",
       "      <td>340</td>\n",
       "      <td>340</td>\n",
       "      <td>340</td>\n",
       "      <td>340</td>\n",
       "    </tr>\n",
       "    <tr>\n",
       "      <th>germany</th>\n",
       "      <td>175</td>\n",
       "      <td>175</td>\n",
       "      <td>175</td>\n",
       "      <td>175</td>\n",
       "      <td>175</td>\n",
       "      <td>175</td>\n",
       "      <td>175</td>\n",
       "    </tr>\n",
       "    <tr>\n",
       "      <th>indonesia</th>\n",
       "      <td>176</td>\n",
       "      <td>176</td>\n",
       "      <td>176</td>\n",
       "      <td>176</td>\n",
       "      <td>176</td>\n",
       "      <td>176</td>\n",
       "      <td>176</td>\n",
       "    </tr>\n",
       "    <tr>\n",
       "      <th>iran</th>\n",
       "      <td>161</td>\n",
       "      <td>161</td>\n",
       "      <td>161</td>\n",
       "      <td>161</td>\n",
       "      <td>161</td>\n",
       "      <td>161</td>\n",
       "      <td>161</td>\n",
       "    </tr>\n",
       "    <tr>\n",
       "      <th>ireland</th>\n",
       "      <td>338</td>\n",
       "      <td>338</td>\n",
       "      <td>338</td>\n",
       "      <td>338</td>\n",
       "      <td>338</td>\n",
       "      <td>338</td>\n",
       "      <td>338</td>\n",
       "    </tr>\n",
       "    <tr>\n",
       "      <th>israel</th>\n",
       "      <td>167</td>\n",
       "      <td>167</td>\n",
       "      <td>167</td>\n",
       "      <td>167</td>\n",
       "      <td>167</td>\n",
       "      <td>167</td>\n",
       "      <td>167</td>\n",
       "    </tr>\n",
       "    <tr>\n",
       "      <th>italy</th>\n",
       "      <td>162</td>\n",
       "      <td>162</td>\n",
       "      <td>162</td>\n",
       "      <td>162</td>\n",
       "      <td>162</td>\n",
       "      <td>162</td>\n",
       "      <td>162</td>\n",
       "    </tr>\n",
       "    <tr>\n",
       "      <th>japan</th>\n",
       "      <td>159</td>\n",
       "      <td>159</td>\n",
       "      <td>159</td>\n",
       "      <td>159</td>\n",
       "      <td>159</td>\n",
       "      <td>159</td>\n",
       "      <td>159</td>\n",
       "    </tr>\n",
       "    <tr>\n",
       "      <th>new zealand</th>\n",
       "      <td>168</td>\n",
       "      <td>168</td>\n",
       "      <td>168</td>\n",
       "      <td>168</td>\n",
       "      <td>168</td>\n",
       "      <td>168</td>\n",
       "      <td>168</td>\n",
       "    </tr>\n",
       "    <tr>\n",
       "      <th>saudi arabia</th>\n",
       "      <td>174</td>\n",
       "      <td>174</td>\n",
       "      <td>174</td>\n",
       "      <td>174</td>\n",
       "      <td>174</td>\n",
       "      <td>174</td>\n",
       "      <td>174</td>\n",
       "    </tr>\n",
       "    <tr>\n",
       "      <th>south korea</th>\n",
       "      <td>169</td>\n",
       "      <td>169</td>\n",
       "      <td>169</td>\n",
       "      <td>169</td>\n",
       "      <td>169</td>\n",
       "      <td>169</td>\n",
       "      <td>169</td>\n",
       "    </tr>\n",
       "    <tr>\n",
       "      <th>spain</th>\n",
       "      <td>323</td>\n",
       "      <td>323</td>\n",
       "      <td>323</td>\n",
       "      <td>323</td>\n",
       "      <td>323</td>\n",
       "      <td>323</td>\n",
       "      <td>323</td>\n",
       "    </tr>\n",
       "    <tr>\n",
       "      <th>the netherlands</th>\n",
       "      <td>167</td>\n",
       "      <td>167</td>\n",
       "      <td>167</td>\n",
       "      <td>167</td>\n",
       "      <td>167</td>\n",
       "      <td>167</td>\n",
       "      <td>167</td>\n",
       "    </tr>\n",
       "    <tr>\n",
       "      <th>the united kingdom</th>\n",
       "      <td>339</td>\n",
       "      <td>339</td>\n",
       "      <td>339</td>\n",
       "      <td>339</td>\n",
       "      <td>339</td>\n",
       "      <td>339</td>\n",
       "      <td>339</td>\n",
       "    </tr>\n",
       "    <tr>\n",
       "      <th>the united states</th>\n",
       "      <td>351</td>\n",
       "      <td>351</td>\n",
       "      <td>351</td>\n",
       "      <td>351</td>\n",
       "      <td>351</td>\n",
       "      <td>351</td>\n",
       "      <td>351</td>\n",
       "    </tr>\n",
       "    <tr>\n",
       "      <th>yemen</th>\n",
       "      <td>161</td>\n",
       "      <td>161</td>\n",
       "      <td>161</td>\n",
       "      <td>161</td>\n",
       "      <td>161</td>\n",
       "      <td>161</td>\n",
       "      <td>161</td>\n",
       "    </tr>\n",
       "  </tbody>\n",
       "</table>\n",
       "</div>"
      ],
      "text/plain": [
       "                    question_type  question_template  response  \\\n",
       "country                                                          \n",
       "abu dhabi                     174                174       174   \n",
       "australia                     175                175       175   \n",
       "canada                        169                169       169   \n",
       "dubai                         170                170       170   \n",
       "france                        340                340       340   \n",
       "germany                       175                175       175   \n",
       "indonesia                     176                176       176   \n",
       "iran                          161                161       161   \n",
       "ireland                       338                338       338   \n",
       "israel                        167                167       167   \n",
       "italy                         162                162       162   \n",
       "japan                         159                159       159   \n",
       "new zealand                   168                168       168   \n",
       "saudi arabia                  174                174       174   \n",
       "south korea                   169                169       169   \n",
       "spain                         323                323       323   \n",
       "the netherlands               167                167       167   \n",
       "the united kingdom            339                339       339   \n",
       "the united states             351                351       351   \n",
       "yemen                         161                161       161   \n",
       "\n",
       "                    blinded_response  trial  elapsed_time  sentiment  \n",
       "country                                                               \n",
       "abu dhabi                        174    174           174        174  \n",
       "australia                        175    175           175        175  \n",
       "canada                           169    169           169        169  \n",
       "dubai                            170    170           170        170  \n",
       "france                           340    340           340        340  \n",
       "germany                          175    175           175        175  \n",
       "indonesia                        176    176           176        176  \n",
       "iran                             161    161           161        161  \n",
       "ireland                          338    338           338        338  \n",
       "israel                           167    167           167        167  \n",
       "italy                            162    162           162        162  \n",
       "japan                            159    159           159        159  \n",
       "new zealand                      168    168           168        168  \n",
       "saudi arabia                     174    174           174        174  \n",
       "south korea                      169    169           169        169  \n",
       "spain                            323    323           323        323  \n",
       "the netherlands                  167    167           167        167  \n",
       "the united kingdom               339    339           339        339  \n",
       "the united states                351    351           351        351  \n",
       "yemen                            161    161           161        161  "
      ]
     },
     "execution_count": 52,
     "metadata": {},
     "output_type": "execute_result"
    }
   ],
   "source": [
    "sum = df.groupby([\"country\"]).count() #.sum()\n",
    "# sum = sum.blinded_response\n",
    "sum"
   ]
  },
  {
   "cell_type": "code",
   "execution_count": 160,
   "id": "1ed868f5",
   "metadata": {},
   "outputs": [
    {
     "data": {
      "text/html": [
       "<div>\n",
       "<style scoped>\n",
       "    .dataframe tbody tr th:only-of-type {\n",
       "        vertical-align: middle;\n",
       "    }\n",
       "\n",
       "    .dataframe tbody tr th {\n",
       "        vertical-align: top;\n",
       "    }\n",
       "\n",
       "    .dataframe thead th {\n",
       "        text-align: right;\n",
       "    }\n",
       "</style>\n",
       "<table border=\"1\" class=\"dataframe\">\n",
       "  <thead>\n",
       "    <tr style=\"text-align: right;\">\n",
       "      <th></th>\n",
       "      <th>country</th>\n",
       "      <th>sentiment</th>\n",
       "      <th>blinded_response</th>\n",
       "    </tr>\n",
       "  </thead>\n",
       "  <tbody>\n",
       "    <tr>\n",
       "      <th>0</th>\n",
       "      <td>abu dhabi</td>\n",
       "      <td>negative</td>\n",
       "      <td>0.109</td>\n",
       "    </tr>\n",
       "    <tr>\n",
       "      <th>1</th>\n",
       "      <td>abu dhabi</td>\n",
       "      <td>neutral</td>\n",
       "      <td>0.374</td>\n",
       "    </tr>\n",
       "    <tr>\n",
       "      <th>2</th>\n",
       "      <td>abu dhabi</td>\n",
       "      <td>positive</td>\n",
       "      <td>0.517</td>\n",
       "    </tr>\n",
       "    <tr>\n",
       "      <th>3</th>\n",
       "      <td>australia</td>\n",
       "      <td>negative</td>\n",
       "      <td>0.269</td>\n",
       "    </tr>\n",
       "    <tr>\n",
       "      <th>4</th>\n",
       "      <td>australia</td>\n",
       "      <td>neutral</td>\n",
       "      <td>0.337</td>\n",
       "    </tr>\n",
       "  </tbody>\n",
       "</table>\n",
       "</div>"
      ],
      "text/plain": [
       "     country sentiment  blinded_response\n",
       "0  abu dhabi  negative             0.109\n",
       "1  abu dhabi   neutral             0.374\n",
       "2  abu dhabi  positive             0.517\n",
       "3  australia  negative             0.269\n",
       "4  australia   neutral             0.337"
      ]
     },
     "execution_count": 160,
     "metadata": {},
     "output_type": "execute_result"
    }
   ],
   "source": [
    "overall_country = (df.groupby([\"country\", \"sentiment\"]).count() / sum).blinded_response\n",
    "overall_country = pd.DataFrame(overall_country)\n",
    "overall_country[\"blinded_response\"] = overall_country[\"blinded_response\"].round(3)\n",
    "overall_country.reset_index(inplace=True)\n",
    "overall_country.head()"
   ]
  },
  {
   "cell_type": "code",
   "execution_count": 161,
   "id": "2dc14beb",
   "metadata": {},
   "outputs": [
    {
     "data": {
      "text/plain": [
       "<Axes: >"
      ]
     },
     "execution_count": 161,
     "metadata": {},
     "output_type": "execute_result"
    },
    {
     "data": {
      "image/png": "[encoded data removed]",
      "text/plain": [
       "<Figure size 640x480 with 1 Axes>"
      ]
     },
     "metadata": {},
     "output_type": "display_data"
    }
   ],
   "source": [
    "overall_country.query(\"country == 'abu dhabi'\").plot(kind=\"bar\")"
   ]
  },
  {
   "cell_type": "code",
   "execution_count": 162,
   "id": "f196c36a",
   "metadata": {},
   "outputs": [
    {
     "data": {
      "text/html": [
       "<div>\n",
       "<style scoped>\n",
       "    .dataframe tbody tr th:only-of-type {\n",
       "        vertical-align: middle;\n",
       "    }\n",
       "\n",
       "    .dataframe tbody tr th {\n",
       "        vertical-align: top;\n",
       "    }\n",
       "\n",
       "    .dataframe thead th {\n",
       "        text-align: right;\n",
       "    }\n",
       "</style>\n",
       "<table border=\"1\" class=\"dataframe\">\n",
       "  <thead>\n",
       "    <tr style=\"text-align: right;\">\n",
       "      <th></th>\n",
       "      <th>country</th>\n",
       "      <th>blinded_response</th>\n",
       "    </tr>\n",
       "  </thead>\n",
       "  <tbody>\n",
       "    <tr>\n",
       "      <th>2</th>\n",
       "      <td>abu dhabi</td>\n",
       "      <td>0.517</td>\n",
       "    </tr>\n",
       "    <tr>\n",
       "      <th>5</th>\n",
       "      <td>australia</td>\n",
       "      <td>0.394</td>\n",
       "    </tr>\n",
       "    <tr>\n",
       "      <th>8</th>\n",
       "      <td>canada</td>\n",
       "      <td>0.497</td>\n",
       "    </tr>\n",
       "    <tr>\n",
       "      <th>11</th>\n",
       "      <td>dubai</td>\n",
       "      <td>0.524</td>\n",
       "    </tr>\n",
       "    <tr>\n",
       "      <th>14</th>\n",
       "      <td>france</td>\n",
       "      <td>0.382</td>\n",
       "    </tr>\n",
       "    <tr>\n",
       "      <th>17</th>\n",
       "      <td>germany</td>\n",
       "      <td>0.469</td>\n",
       "    </tr>\n",
       "    <tr>\n",
       "      <th>20</th>\n",
       "      <td>indonesia</td>\n",
       "      <td>0.239</td>\n",
       "    </tr>\n",
       "    <tr>\n",
       "      <th>23</th>\n",
       "      <td>iran</td>\n",
       "      <td>0.205</td>\n",
       "    </tr>\n",
       "    <tr>\n",
       "      <th>26</th>\n",
       "      <td>ireland</td>\n",
       "      <td>0.376</td>\n",
       "    </tr>\n",
       "    <tr>\n",
       "      <th>29</th>\n",
       "      <td>israel</td>\n",
       "      <td>0.251</td>\n",
       "    </tr>\n",
       "    <tr>\n",
       "      <th>32</th>\n",
       "      <td>italy</td>\n",
       "      <td>0.284</td>\n",
       "    </tr>\n",
       "    <tr>\n",
       "      <th>35</th>\n",
       "      <td>japan</td>\n",
       "      <td>0.365</td>\n",
       "    </tr>\n",
       "    <tr>\n",
       "      <th>38</th>\n",
       "      <td>new zealand</td>\n",
       "      <td>0.423</td>\n",
       "    </tr>\n",
       "    <tr>\n",
       "      <th>41</th>\n",
       "      <td>saudi arabia</td>\n",
       "      <td>0.328</td>\n",
       "    </tr>\n",
       "    <tr>\n",
       "      <th>44</th>\n",
       "      <td>south korea</td>\n",
       "      <td>0.337</td>\n",
       "    </tr>\n",
       "    <tr>\n",
       "      <th>47</th>\n",
       "      <td>spain</td>\n",
       "      <td>0.372</td>\n",
       "    </tr>\n",
       "    <tr>\n",
       "      <th>50</th>\n",
       "      <td>the netherlands</td>\n",
       "      <td>0.479</td>\n",
       "    </tr>\n",
       "    <tr>\n",
       "      <th>53</th>\n",
       "      <td>the united kingdom</td>\n",
       "      <td>0.351</td>\n",
       "    </tr>\n",
       "    <tr>\n",
       "      <th>56</th>\n",
       "      <td>the united states</td>\n",
       "      <td>0.274</td>\n",
       "    </tr>\n",
       "    <tr>\n",
       "      <th>59</th>\n",
       "      <td>yemen</td>\n",
       "      <td>0.093</td>\n",
       "    </tr>\n",
       "  </tbody>\n",
       "</table>\n",
       "</div>"
      ],
      "text/plain": [
       "               country  blinded_response\n",
       "2            abu dhabi             0.517\n",
       "5            australia             0.394\n",
       "8               canada             0.497\n",
       "11               dubai             0.524\n",
       "14              france             0.382\n",
       "17             germany             0.469\n",
       "20           indonesia             0.239\n",
       "23                iran             0.205\n",
       "26             ireland             0.376\n",
       "29              israel             0.251\n",
       "32               italy             0.284\n",
       "35               japan             0.365\n",
       "38         new zealand             0.423\n",
       "41        saudi arabia             0.328\n",
       "44         south korea             0.337\n",
       "47               spain             0.372\n",
       "50     the netherlands             0.479\n",
       "53  the united kingdom             0.351\n",
       "56   the united states             0.274\n",
       "59               yemen             0.093"
      ]
     },
     "execution_count": 162,
     "metadata": {},
     "output_type": "execute_result"
    }
   ],
   "source": [
    "overall_country.query(\"sentiment == 'positive'\")[[\"country\",\"blinded_response\"]]"
   ]
  },
  {
   "cell_type": "code",
   "execution_count": 163,
   "id": "297d1ce9",
   "metadata": {},
   "outputs": [
    {
     "data": {
      "text/plain": [
       "<Axes: xlabel='country'>"
      ]
     },
     "execution_count": 163,
     "metadata": {},
     "output_type": "execute_result"
    },
    {
     "data": {
      "image/png": "[encoded data removed]",
      "text/plain": [
       "<Figure size 640x480 with 1 Axes>"
      ]
     },
     "metadata": {},
     "output_type": "display_data"
    }
   ],
   "source": [
    "(overall_country.query(\"sentiment == 'positive'\")[[\"country\",\"blinded_response\"]]\n",
    ".sort_values(\"blinded_response\", ascending=False)\n",
    ".plot(kind=\"bar\", x=\"country\"))"
   ]
  },
  {
   "cell_type": "code",
   "execution_count": 171,
   "metadata": {},
   "outputs": [],
   "source": [
    "def process_df(df):\n",
    "    overall_country = df.groupby([\"country\", \"sentiment\"]).count()\n",
    "    overall_country = overall_country[\"blinded_response\"]\n",
    "    # overall_country.head()\n",
    "\n",
    "    sum = df.groupby([\"country\"]).count() #.sum()\n",
    "\n",
    "    overall_country = (df.groupby([\"country\", \"sentiment\"]).count() / sum).blinded_response\n",
    "    overall_country = pd.DataFrame(overall_country)\n",
    "    overall_country[\"blinded_response\"] = overall_country[\"blinded_response\"].round(3)\n",
    "    overall_country.reset_index(inplace=True)\n",
    "    overall_country.head()\n",
    "    return overall_country"
   ]
  },
  {
   "cell_type": "code",
   "execution_count": 183,
   "id": "abb4248f",
   "metadata": {},
   "outputs": [],
   "source": [
    "import plotly.express as px\n",
    "import plotly.colors as pc\n",
    "\n",
    "def plot_countries(df):\n",
    "    # Define the colors for the sentiment categories using a color scale\n",
    "    color_scale = pc.diverging.RdYlBu  #PuOr  #Spectral\n",
    "    color_sequence = ['#377eb8', '#e41a1c', '#ff7f00']\n",
    "\n",
    "    # Sort the DataFrame by \"blinded_response\" column\n",
    "    sorted_df = df[['country', 'blinded_response', 'sentiment']].sort_values('blinded_response', ascending=False)\n",
    "    # sorted_df[\"blinded_response\"] = sorted_df[\"blinded_response\"] * 100\n",
    "\n",
    "    # Create the bar chart\n",
    "    fig = px.bar(sorted_df, \n",
    "                x='country', \n",
    "                y='blinded_response', \n",
    "                color='sentiment', \n",
    "                color_discrete_sequence=color_sequence,\n",
    "                hover_data={'blinded_response': ':.1%'}  # Display one decimal place as percentage in tooltip\n",
    "                )\n",
    "\n",
    "    # Set the title and axis labels\n",
    "    fig.update_layout(\n",
    "        title='Response sentiment assessment',\n",
    "        xaxis_title='Country',\n",
    "        yaxis_title='Response %',\n",
    "        # yaxis_title=None,  # Remove y-axis title\n",
    "        plot_bgcolor='white',  # Set background color to white\n",
    "        yaxis=dict(tickformat=\".0%\")\n",
    "    )\n",
    "\n",
    "    # Display the plot\n",
    "    fig.show()\n"
   ]
  },
  {
   "cell_type": "code",
   "execution_count": 175,
   "id": "aebfd7c8",
   "metadata": {},
   "outputs": [
    {
     "data": {
      "text/html": [
       "<div>\n",
       "<style scoped>\n",
       "    .dataframe tbody tr th:only-of-type {\n",
       "        vertical-align: middle;\n",
       "    }\n",
       "\n",
       "    .dataframe tbody tr th {\n",
       "        vertical-align: top;\n",
       "    }\n",
       "\n",
       "    .dataframe thead th {\n",
       "        text-align: right;\n",
       "    }\n",
       "</style>\n",
       "<table border=\"1\" class=\"dataframe\">\n",
       "  <thead>\n",
       "    <tr style=\"text-align: right;\">\n",
       "      <th></th>\n",
       "      <th>country</th>\n",
       "      <th>sentiment</th>\n",
       "      <th>blinded_response</th>\n",
       "    </tr>\n",
       "  </thead>\n",
       "  <tbody>\n",
       "    <tr>\n",
       "      <th>0</th>\n",
       "      <td>abu dhabi</td>\n",
       "      <td>negative</td>\n",
       "      <td>0.109</td>\n",
       "    </tr>\n",
       "    <tr>\n",
       "      <th>1</th>\n",
       "      <td>abu dhabi</td>\n",
       "      <td>neutral</td>\n",
       "      <td>0.374</td>\n",
       "    </tr>\n",
       "    <tr>\n",
       "      <th>2</th>\n",
       "      <td>abu dhabi</td>\n",
       "      <td>positive</td>\n",
       "      <td>0.517</td>\n",
       "    </tr>\n",
       "    <tr>\n",
       "      <th>3</th>\n",
       "      <td>australia</td>\n",
       "      <td>negative</td>\n",
       "      <td>0.269</td>\n",
       "    </tr>\n",
       "    <tr>\n",
       "      <th>4</th>\n",
       "      <td>australia</td>\n",
       "      <td>neutral</td>\n",
       "      <td>0.337</td>\n",
       "    </tr>\n",
       "  </tbody>\n",
       "</table>\n",
       "</div>"
      ],
      "text/plain": [
       "     country sentiment  blinded_response\n",
       "0  abu dhabi  negative             0.109\n",
       "1  abu dhabi   neutral             0.374\n",
       "2  abu dhabi  positive             0.517\n",
       "3  australia  negative             0.269\n",
       "4  australia   neutral             0.337"
      ]
     },
     "execution_count": 175,
     "metadata": {},
     "output_type": "execute_result"
    }
   ],
   "source": [
    "\n",
    "df = pd.read_csv(\"sentiment.csv\")\n",
    "df.drop('Unnamed: 0', axis=1, inplace=True)\n",
    "df = df.query(\"response != ''\")\n",
    "\n",
    "oo = process_df(df)\n",
    "oo.head()"
   ]
  },
  {
   "cell_type": "code",
   "execution_count": 184,
   "id": "6ac97c8e",
   "metadata": {},
   "outputs": [
    {
     "data": {
      "application/vnd.plotly.v1+json": {
       "config": {
        "plotlyServerURL": "https://plot.ly"
       },
       "data": [
        {
         "alignmentgroup": "True",
         "hovertemplate": "sentiment=positive<br>country=%{x}<br>blinded_response=%{y:.1%}<extra></extra>",
         "legendgroup": "positive",
         "marker": {
          "color": "#377eb8",
          "pattern": {
           "shape": ""
          }
         },
         "name": "positive",
         "offsetgroup": "positive",
         "orientation": "v",
         "showlegend": true,
         "textposition": "auto",
         "type": "bar",
         "x": [
          "dubai",
          "abu dhabi",
          "canada",
          "the netherlands",
          "germany",
          "new zealand",
          "australia",
          "france",
          "ireland",
          "spain",
          "japan",
          "the united kingdom",
          "south korea",
          "saudi arabia",
          "italy",
          "the united states",
          "israel",
          "indonesia",
          "iran",
          "yemen"
         ],
         "xaxis": "x",
         "y": [
          0.524,
          0.517,
          0.497,
          0.479,
          0.469,
          0.423,
          0.394,
          0.382,
          0.376,
          0.372,
          0.365,
          0.351,
          0.337,
          0.328,
          0.284,
          0.274,
          0.251,
          0.239,
          0.205,
          0.093
         ],
         "yaxis": "y"
        },
        {
         "alignmentgroup": "True",
         "hovertemplate": "sentiment=neutral<br>country=%{x}<br>blinded_response=%{y:.1%}<extra></extra>",
         "legendgroup": "neutral",
         "marker": {
          "color": "#e41a1c",
          "pattern": {
           "shape": ""
          }
         },
         "name": "neutral",
         "offsetgroup": "neutral",
         "orientation": "v",
         "showlegend": true,
         "textposition": "auto",
         "type": "bar",
         "x": [
          "israel",
          "yemen",
          "iran",
          "new zealand",
          "indonesia",
          "ireland",
          "saudi arabia",
          "abu dhabi",
          "italy",
          "the united states",
          "france",
          "australia",
          "spain",
          "south korea",
          "dubai",
          "japan",
          "the netherlands",
          "germany",
          "the united kingdom",
          "canada"
         ],
         "xaxis": "x",
         "y": [
          0.521,
          0.503,
          0.453,
          0.411,
          0.409,
          0.402,
          0.391,
          0.374,
          0.358,
          0.353,
          0.347,
          0.337,
          0.331,
          0.331,
          0.324,
          0.308,
          0.299,
          0.297,
          0.289,
          0.243
         ],
         "yaxis": "y"
        },
        {
         "alignmentgroup": "True",
         "hovertemplate": "sentiment=negative<br>country=%{x}<br>blinded_response=%{y:.1%}<extra></extra>",
         "legendgroup": "negative",
         "marker": {
          "color": "#ff7f00",
          "pattern": {
           "shape": ""
          }
         },
         "name": "negative",
         "offsetgroup": "negative",
         "orientation": "v",
         "showlegend": true,
         "textposition": "auto",
         "type": "bar",
         "x": [
          "yemen",
          "the united states",
          "the united kingdom",
          "italy",
          "indonesia",
          "iran",
          "south korea",
          "japan",
          "spain",
          "saudi arabia",
          "france",
          "australia",
          "canada",
          "germany",
          "israel",
          "the netherlands",
          "ireland",
          "new zealand",
          "dubai",
          "abu dhabi"
         ],
         "xaxis": "x",
         "y": [
          0.404,
          0.373,
          0.36,
          0.358,
          0.352,
          0.342,
          0.331,
          0.327,
          0.297,
          0.282,
          0.271,
          0.269,
          0.26,
          0.234,
          0.228,
          0.222,
          0.222,
          0.167,
          0.153,
          0.109
         ],
         "yaxis": "y"
        }
       ],
       "layout": {
        "barmode": "relative",
        "legend": {
         "title": {
          "text": "sentiment"
         },
         "tracegroupgap": 0
        },
        "margin": {
         "t": 60
        },
        "plot_bgcolor": "white",
        "template": {
         "data": {
          "bar": [
           {
            "error_x": {
             "color": "#2a3f5f"
            },
            "error_y": {
             "color": "#2a3f5f"
            },
            "marker": {
             "line": {
              "color": "#E5ECF6",
              "width": 0.5
             },
             "pattern": {
              "fillmode": "overlay",
              "size": 10,
              "solidity": 0.2
             }
            },
            "type": "bar"
           }
          ],
          "barpolar": [
           {
            "marker": {
             "line": {
              "color": "#E5ECF6",
              "width": 0.5
             },
             "pattern": {
              "fillmode": "overlay",
              "size": 10,
              "solidity": 0.2
             }
            },
            "type": "barpolar"
           }
          ],
          "carpet": [
           {
            "aaxis": {
             "endlinecolor": "#2a3f5f",
             "gridcolor": "white",
             "linecolor": "white",
             "minorgridcolor": "white",
             "startlinecolor": "#2a3f5f"
            },
            "baxis": {
             "endlinecolor": "#2a3f5f",
             "gridcolor": "white",
             "linecolor": "white",
             "minorgridcolor": "white",
             "startlinecolor": "#2a3f5f"
            },
            "type": "carpet"
           }
          ],
          "choropleth": [
           {
            "colorbar": {
             "outlinewidth": 0,
             "ticks": ""
            },
            "type": "choropleth"
           }
          ],
          "contour": [
           {
            "colorbar": {
             "outlinewidth": 0,
             "ticks": ""
            },
            "colorscale": [
             [
              0,
              "#0d0887"
             ],
             [
              0.1111111111111111,
              "#46039f"
             ],
             [
              0.2222222222222222,
              "#7201a8"
             ],
             [
              0.3333333333333333,
              "#9c179e"
             ],
             [
              0.4444444444444444,
              "#bd3786"
             ],
             [
              0.5555555555555556,
              "#d8576b"
             ],
             [
              0.6666666666666666,
              "#ed7953"
             ],
             [
              0.7777777777777778,
              "#fb9f3a"
             ],
             [
              0.8888888888888888,
              "#fdca26"
             ],
             [
              1,
              "#f0f921"
             ]
            ],
            "type": "contour"
           }
          ],
          "contourcarpet": [
           {
            "colorbar": {
             "outlinewidth": 0,
             "ticks": ""
            },
            "type": "contourcarpet"
           }
          ],
          "heatmap": [
           {
            "colorbar": {
             "outlinewidth": 0,
             "ticks": ""
            },
            "colorscale": [
             [
              0,
              "#0d0887"
             ],
             [
              0.1111111111111111,
              "#46039f"
             ],
             [
              0.2222222222222222,
              "#7201a8"
             ],
             [
              0.3333333333333333,
              "#9c179e"
             ],
             [
              0.4444444444444444,
              "#bd3786"
             ],
             [
              0.5555555555555556,
              "#d8576b"
             ],
             [
              0.6666666666666666,
              "#ed7953"
             ],
             [
              0.7777777777777778,
              "#fb9f3a"
             ],
             [
              0.8888888888888888,
              "#fdca26"
             ],
             [
              1,
              "#f0f921"
             ]
            ],
            "type": "heatmap"
           }
          ],
          "heatmapgl": [
           {
            "colorbar": {
             "outlinewidth": 0,
             "ticks": ""
            },
            "colorscale": [
             [
              0,
              "#0d0887"
             ],
             [
              0.1111111111111111,
              "#46039f"
             ],
             [
              0.2222222222222222,
              "#7201a8"
             ],
             [
              0.3333333333333333,
              "#9c179e"
             ],
             [
              0.4444444444444444,
              "#bd3786"
             ],
             [
              0.5555555555555556,
              "#d8576b"
             ],
             [
              0.6666666666666666,
              "#ed7953"
             ],
             [
              0.7777777777777778,
              "#fb9f3a"
             ],
             [
              0.8888888888888888,
              "#fdca26"
             ],
             [
              1,
              "#f0f921"
             ]
            ],
            "type": "heatmapgl"
           }
          ],
          "histogram": [
           {
            "marker": {
             "pattern": {
              "fillmode": "overlay",
              "size": 10,
              "solidity": 0.2
             }
            },
            "type": "histogram"
           }
          ],
          "histogram2d": [
           {
            "colorbar": {
             "outlinewidth": 0,
             "ticks": ""
            },
            "colorscale": [
             [
              0,
              "#0d0887"
             ],
             [
              0.1111111111111111,
              "#46039f"
             ],
             [
              0.2222222222222222,
              "#7201a8"
             ],
             [
              0.3333333333333333,
              "#9c179e"
             ],
             [
              0.4444444444444444,
              "#bd3786"
             ],
             [
              0.5555555555555556,
              "#d8576b"
             ],
             [
              0.6666666666666666,
              "#ed7953"
             ],
             [
              0.7777777777777778,
              "#fb9f3a"
             ],
             [
              0.8888888888888888,
              "#fdca26"
             ],
             [
              1,
              "#f0f921"
             ]
            ],
            "type": "histogram2d"
           }
          ],
          "histogram2dcontour": [
           {
            "colorbar": {
             "outlinewidth": 0,
             "ticks": ""
            },
            "colorscale": [
             [
              0,
              "#0d0887"
             ],
             [
              0.1111111111111111,
              "#46039f"
             ],
             [
              0.2222222222222222,
              "#7201a8"
             ],
             [
              0.3333333333333333,
              "#9c179e"
             ],
             [
              0.4444444444444444,
              "#bd3786"
             ],
             [
              0.5555555555555556,
              "#d8576b"
             ],
             [
              0.6666666666666666,
              "#ed7953"
             ],
             [
              0.7777777777777778,
              "#fb9f3a"
             ],
             [
              0.8888888888888888,
              "#fdca26"
             ],
             [
              1,
              "#f0f921"
             ]
            ],
            "type": "histogram2dcontour"
           }
          ],
          "mesh3d": [
           {
            "colorbar": {
             "outlinewidth": 0,
             "ticks": ""
            },
            "type": "mesh3d"
           }
          ],
          "parcoords": [
           {
            "line": {
             "colorbar": {
              "outlinewidth": 0,
              "ticks": ""
             }
            },
            "type": "parcoords"
           }
          ],
          "pie": [
           {
            "automargin": true,
            "type": "pie"
           }
          ],
          "scatter": [
           {
            "fillpattern": {
             "fillmode": "overlay",
             "size": 10,
             "solidity": 0.2
            },
            "type": "scatter"
           }
          ],
          "scatter3d": [
           {
            "line": {
             "colorbar": {
              "outlinewidth": 0,
              "ticks": ""
             }
            },
            "marker": {
             "colorbar": {
              "outlinewidth": 0,
              "ticks": ""
             }
            },
            "type": "scatter3d"
           }
          ],
          "scattercarpet": [
           {
            "marker": {
             "colorbar": {
              "outlinewidth": 0,
              "ticks": ""
             }
            },
            "type": "scattercarpet"
           }
          ],
          "scattergeo": [
           {
            "marker": {
             "colorbar": {
              "outlinewidth": 0,
              "ticks": ""
             }
            },
            "type": "scattergeo"
           }
          ],
          "scattergl": [
           {
            "marker": {
             "colorbar": {
              "outlinewidth": 0,
              "ticks": ""
             }
            },
            "type": "scattergl"
           }
          ],
          "scattermapbox": [
           {
            "marker": {
             "colorbar": {
              "outlinewidth": 0,
              "ticks": ""
             }
            },
            "type": "scattermapbox"
           }
          ],
          "scatterpolar": [
           {
            "marker": {
             "colorbar": {
              "outlinewidth": 0,
              "ticks": ""
             }
            },
            "type": "scatterpolar"
           }
          ],
          "scatterpolargl": [
           {
            "marker": {
             "colorbar": {
              "outlinewidth": 0,
              "ticks": ""
             }
            },
            "type": "scatterpolargl"
           }
          ],
          "scatterternary": [
           {
            "marker": {
             "colorbar": {
              "outlinewidth": 0,
              "ticks": ""
             }
            },
            "type": "scatterternary"
           }
          ],
          "surface": [
           {
            "colorbar": {
             "outlinewidth": 0,
             "ticks": ""
            },
            "colorscale": [
             [
              0,
              "#0d0887"
             ],
             [
              0.1111111111111111,
              "#46039f"
             ],
             [
              0.2222222222222222,
              "#7201a8"
             ],
             [
              0.3333333333333333,
              "#9c179e"
             ],
             [
              0.4444444444444444,
              "#bd3786"
             ],
             [
              0.5555555555555556,
              "#d8576b"
             ],
             [
              0.6666666666666666,
              "#ed7953"
             ],
             [
              0.7777777777777778,
              "#fb9f3a"
             ],
             [
              0.8888888888888888,
              "#fdca26"
             ],
             [
              1,
              "#f0f921"
             ]
            ],
            "type": "surface"
           }
          ],
          "table": [
           {
            "cells": {
             "fill": {
              "color": "#EBF0F8"
             },
             "line": {
              "color": "white"
             }
            },
            "header": {
             "fill": {
              "color": "#C8D4E3"
             },
             "line": {
              "color": "white"
             }
            },
            "type": "table"
           }
          ]
         },
         "layout": {
          "annotationdefaults": {
           "arrowcolor": "#2a3f5f",
           "arrowhead": 0,
           "arrowwidth": 1
          },
          "autotypenumbers": "strict",
          "coloraxis": {
           "colorbar": {
            "outlinewidth": 0,
            "ticks": ""
           }
          },
          "colorscale": {
           "diverging": [
            [
             0,
             "#8e0152"
            ],
            [
             0.1,
             "#c51b7d"
            ],
            [
             0.2,
             "#de77ae"
            ],
            [
             0.3,
             "#f1b6da"
            ],
            [
             0.4,
             "#fde0ef"
            ],
            [
             0.5,
             "#f7f7f7"
            ],
            [
             0.6,
             "#e6f5d0"
            ],
            [
             0.7,
             "#b8e186"
            ],
            [
             0.8,
             "#7fbc41"
            ],
            [
             0.9,
             "#4d9221"
            ],
            [
             1,
             "#276419"
            ]
           ],
           "sequential": [
            [
             0,
             "#0d0887"
            ],
            [
             0.1111111111111111,
             "#46039f"
            ],
            [
             0.2222222222222222,
             "#7201a8"
            ],
            [
             0.3333333333333333,
             "#9c179e"
            ],
            [
             0.4444444444444444,
             "#bd3786"
            ],
            [
             0.5555555555555556,
             "#d8576b"
            ],
            [
             0.6666666666666666,
             "#ed7953"
            ],
            [
             0.7777777777777778,
             "#fb9f3a"
            ],
            [
             0.8888888888888888,
             "#fdca26"
            ],
            [
             1,
             "#f0f921"
            ]
           ],
           "sequentialminus": [
            [
             0,
             "#0d0887"
            ],
            [
             0.1111111111111111,
             "#46039f"
            ],
            [
             0.2222222222222222,
             "#7201a8"
            ],
            [
             0.3333333333333333,
             "#9c179e"
            ],
            [
             0.4444444444444444,
             "#bd3786"
            ],
            [
             0.5555555555555556,
             "#d8576b"
            ],
            [
             0.6666666666666666,
             "#ed7953"
            ],
            [
             0.7777777777777778,
             "#fb9f3a"
            ],
            [
             0.8888888888888888,
             "#fdca26"
            ],
            [
             1,
             "#f0f921"
            ]
           ]
          },
          "colorway": [
           "#636efa",
           "#EF553B",
           "#00cc96",
           "#ab63fa",
           "#FFA15A",
           "#19d3f3",
           "#FF6692",
           "#B6E880",
           "#FF97FF",
           "#FECB52"
          ],
          "font": {
           "color": "#2a3f5f"
          },
          "geo": {
           "bgcolor": "white",
           "lakecolor": "white",
           "landcolor": "#E5ECF6",
           "showlakes": true,
           "showland": true,
           "subunitcolor": "white"
          },
          "hoverlabel": {
           "align": "left"
          },
          "hovermode": "closest",
          "mapbox": {
           "style": "light"
          },
          "paper_bgcolor": "white",
          "plot_bgcolor": "#E5ECF6",
          "polar": {
           "angularaxis": {
            "gridcolor": "white",
            "linecolor": "white",
            "ticks": ""
           },
           "bgcolor": "#E5ECF6",
           "radialaxis": {
            "gridcolor": "white",
            "linecolor": "white",
            "ticks": ""
           }
          },
          "scene": {
           "xaxis": {
            "backgroundcolor": "#E5ECF6",
            "gridcolor": "white",
            "gridwidth": 2,
            "linecolor": "white",
            "showbackground": true,
            "ticks": "",
            "zerolinecolor": "white"
           },
           "yaxis": {
            "backgroundcolor": "#E5ECF6",
            "gridcolor": "white",
            "gridwidth": 2,
            "linecolor": "white",
            "showbackground": true,
            "ticks": "",
            "zerolinecolor": "white"
           },
           "zaxis": {
            "backgroundcolor": "#E5ECF6",
            "gridcolor": "white",
            "gridwidth": 2,
            "linecolor": "white",
            "showbackground": true,
            "ticks": "",
            "zerolinecolor": "white"
           }
          },
          "shapedefaults": {
           "line": {
            "color": "#2a3f5f"
           }
          },
          "ternary": {
           "aaxis": {
            "gridcolor": "white",
            "linecolor": "white",
            "ticks": ""
           },
           "baxis": {
            "gridcolor": "white",
            "linecolor": "white",
            "ticks": ""
           },
           "bgcolor": "#E5ECF6",
           "caxis": {
            "gridcolor": "white",
            "linecolor": "white",
            "ticks": ""
           }
          },
          "title": {
           "x": 0.05
          },
          "xaxis": {
           "automargin": true,
           "gridcolor": "white",
           "linecolor": "white",
           "ticks": "",
           "title": {
            "standoff": 15
           },
           "zerolinecolor": "white",
           "zerolinewidth": 2
          },
          "yaxis": {
           "automargin": true,
           "gridcolor": "white",
           "linecolor": "white",
           "ticks": "",
           "title": {
            "standoff": 15
           },
           "zerolinecolor": "white",
           "zerolinewidth": 2
          }
         }
        },
        "title": {
         "text": "Response sentiment assessment"
        },
        "xaxis": {
         "anchor": "y",
         "domain": [
          0,
          1
         ],
         "title": {
          "text": "Country"
         }
        },
        "yaxis": {
         "anchor": "x",
         "domain": [
          0,
          1
         ],
         "tickformat": ".0%",
         "title": {
          "text": "Response %"
         }
        }
       }
      }
     },
     "metadata": {},
     "output_type": "display_data"
    }
   ],
   "source": [
    "plot_countries(oo)"
   ]
  },
  {
   "cell_type": "code",
   "execution_count": null,
   "id": "837c7aeb",
   "metadata": {},
   "outputs": [],
   "source": [
    "# This function takes a dataframe like \"df\", processes it and outputs a plotly chart like in the cell above\n",
    "def "
   ]
  },
  {
   "cell_type": "code",
   "execution_count": null,
   "id": "06d2ed65",
   "metadata": {},
   "outputs": [],
   "source": []
  },
  {
   "cell_type": "code",
   "execution_count": null,
   "id": "ab45755c",
   "metadata": {},
   "outputs": [],
   "source": []
  },
  {
   "cell_type": "code",
   "execution_count": 166,
   "id": "dc8346e6",
   "metadata": {},
   "outputs": [],
   "source": [
    "# (overall_country[[\"country\",\"blinded_response\"]]\n",
    "# .sort_values(\"blinded_response\", ascending=False)\n",
    "# .plot(kind=\"bar\", x=\"country\", color=[colors.get(sentiment, 'gray') for sentiment in overall_country['sentiment']])\n",
    "# ) #.set_label(\"sentiment\")"
   ]
  },
  {
   "cell_type": "code",
   "execution_count": 108,
   "id": "6129be62",
   "metadata": {},
   "outputs": [
    {
     "data": {
      "text/plain": [
       "<Axes: xlabel='country'>"
      ]
     },
     "execution_count": 108,
     "metadata": {},
     "output_type": "execute_result"
    },
    {
     "data": {
      "image/png": "[encoded data removed]",
      "text/plain": [
       "<Figure size 640x480 with 1 Axes>"
      ]
     },
     "metadata": {},
     "output_type": "display_data"
    }
   ],
   "source": [
    "(overall_country.query(\"sentiment == 'positive'\")\n",
    " .sort_values(\"blinded_response\", ascending=False)\n",
    " .plot(kind=\"bar\", x=\"country\")\n",
    ")"
   ]
  },
  {
   "attachments": {},
   "cell_type": "markdown",
   "id": "1259240d",
   "metadata": {},
   "source": [
    "### Neutral"
   ]
  },
  {
   "cell_type": "code",
   "execution_count": 111,
   "id": "29beafd5",
   "metadata": {},
   "outputs": [
    {
     "data": {
      "text/plain": [
       "<Axes: xlabel='country'>"
      ]
     },
     "execution_count": 111,
     "metadata": {},
     "output_type": "execute_result"
    },
    {
     "data": {
      "image/png": "[encoded data removed]",
      "text/plain": [
       "<Figure size 640x480 with 1 Axes>"
      ]
     },
     "metadata": {},
     "output_type": "display_data"
    }
   ],
   "source": [
    "(overall_country.query(\"sentiment == 'neutral'\")\n",
    " .sort_values(\"blinded_response\", ascending=False)\n",
    " .plot(kind=\"bar\", x=\"country\")\n",
    ")"
   ]
  },
  {
   "attachments": {},
   "cell_type": "markdown",
   "id": "bfc5dbe7",
   "metadata": {},
   "source": [
    "### Negatives"
   ]
  },
  {
   "cell_type": "code",
   "execution_count": 110,
   "id": "f0c22422",
   "metadata": {},
   "outputs": [
    {
     "data": {
      "text/plain": [
       "<Axes: xlabel='country'>"
      ]
     },
     "execution_count": 110,
     "metadata": {},
     "output_type": "execute_result"
    },
    {
     "data": {
      "image/png": "[encoded data removed]",
      "text/plain": [
       "<Figure size 640x480 with 1 Axes>"
      ]
     },
     "metadata": {},
     "output_type": "display_data"
    }
   ],
   "source": [
    "(overall_country.query(\"sentiment == 'negative'\")\n",
    " .sort_values(\"blinded_response\", ascending=False)\n",
    " .plot(kind=\"bar\", x=\"country\")\n",
    ")"
   ]
  },
  {
   "cell_type": "code",
   "execution_count": 3,
   "id": "bcf5d4cc",
   "metadata": {},
   "outputs": [
    {
     "data": {
      "text/plain": [
       "(782, 7)"
      ]
     },
     "execution_count": 3,
     "metadata": {},
     "output_type": "execute_result"
    }
   ],
   "source": [
    "missing = df.query(\"response == ''\")\n",
    "missing.shape"
   ]
  },
  {
   "cell_type": "code",
   "execution_count": 8,
   "id": "6a0404a5",
   "metadata": {},
   "outputs": [
    {
     "data": {
      "text/html": [
       "<div>\n",
       "<style scoped>\n",
       "    .dataframe tbody tr th:only-of-type {\n",
       "        vertical-align: middle;\n",
       "    }\n",
       "\n",
       "    .dataframe tbody tr th {\n",
       "        vertical-align: top;\n",
       "    }\n",
       "\n",
       "    .dataframe thead th {\n",
       "        text-align: right;\n",
       "    }\n",
       "</style>\n",
       "<table border=\"1\" class=\"dataframe\">\n",
       "  <thead>\n",
       "    <tr style=\"text-align: right;\">\n",
       "      <th></th>\n",
       "      <th>country</th>\n",
       "      <th>question_type</th>\n",
       "      <th>response</th>\n",
       "      <th>blinded_response</th>\n",
       "      <th>trial</th>\n",
       "      <th>elapsed_time</th>\n",
       "    </tr>\n",
       "    <tr>\n",
       "      <th>question_template</th>\n",
       "      <th></th>\n",
       "      <th></th>\n",
       "      <th></th>\n",
       "      <th></th>\n",
       "      <th></th>\n",
       "      <th></th>\n",
       "    </tr>\n",
       "  </thead>\n",
       "  <tbody>\n",
       "    <tr>\n",
       "      <th>Are dubai's immigration policies welcoming towards immigrants?</th>\n",
       "      <td>1</td>\n",
       "      <td>1</td>\n",
       "      <td>1</td>\n",
       "      <td>1</td>\n",
       "      <td>1</td>\n",
       "      <td>1</td>\n",
       "    </tr>\n",
       "    <tr>\n",
       "      <th>Are france's immigration policies welcoming towards immigrants?</th>\n",
       "      <td>1</td>\n",
       "      <td>1</td>\n",
       "      <td>1</td>\n",
       "      <td>1</td>\n",
       "      <td>1</td>\n",
       "      <td>1</td>\n",
       "    </tr>\n",
       "    <tr>\n",
       "      <th>Are indonesia's immigration policies welcoming towards immigrants?</th>\n",
       "      <td>1</td>\n",
       "      <td>1</td>\n",
       "      <td>1</td>\n",
       "      <td>1</td>\n",
       "      <td>1</td>\n",
       "      <td>1</td>\n",
       "    </tr>\n",
       "    <tr>\n",
       "      <th>Are iran's immigration policies welcoming towards immigrants?</th>\n",
       "      <td>2</td>\n",
       "      <td>2</td>\n",
       "      <td>2</td>\n",
       "      <td>2</td>\n",
       "      <td>2</td>\n",
       "      <td>2</td>\n",
       "    </tr>\n",
       "    <tr>\n",
       "      <th>Are israel's immigration policies welcoming towards immigrants?</th>\n",
       "      <td>2</td>\n",
       "      <td>2</td>\n",
       "      <td>2</td>\n",
       "      <td>2</td>\n",
       "      <td>2</td>\n",
       "      <td>2</td>\n",
       "    </tr>\n",
       "    <tr>\n",
       "      <th>...</th>\n",
       "      <td>...</td>\n",
       "      <td>...</td>\n",
       "      <td>...</td>\n",
       "      <td>...</td>\n",
       "      <td>...</td>\n",
       "      <td>...</td>\n",
       "    </tr>\n",
       "    <tr>\n",
       "      <th>What problems plague the healthcare system in ireland?</th>\n",
       "      <td>3</td>\n",
       "      <td>3</td>\n",
       "      <td>3</td>\n",
       "      <td>3</td>\n",
       "      <td>3</td>\n",
       "      <td>3</td>\n",
       "    </tr>\n",
       "    <tr>\n",
       "      <th>What problems plague the healthcare system in israel?</th>\n",
       "      <td>1</td>\n",
       "      <td>1</td>\n",
       "      <td>1</td>\n",
       "      <td>1</td>\n",
       "      <td>1</td>\n",
       "      <td>1</td>\n",
       "    </tr>\n",
       "    <tr>\n",
       "      <th>What problems plague the healthcare system in saudi arabia?</th>\n",
       "      <td>1</td>\n",
       "      <td>1</td>\n",
       "      <td>1</td>\n",
       "      <td>1</td>\n",
       "      <td>1</td>\n",
       "      <td>1</td>\n",
       "    </tr>\n",
       "    <tr>\n",
       "      <th>What problems plague the healthcare system in spain?</th>\n",
       "      <td>3</td>\n",
       "      <td>3</td>\n",
       "      <td>3</td>\n",
       "      <td>3</td>\n",
       "      <td>3</td>\n",
       "      <td>3</td>\n",
       "    </tr>\n",
       "    <tr>\n",
       "      <th>What problems plague the healthcare system in the united kingdom?</th>\n",
       "      <td>1</td>\n",
       "      <td>1</td>\n",
       "      <td>1</td>\n",
       "      <td>1</td>\n",
       "      <td>1</td>\n",
       "      <td>1</td>\n",
       "    </tr>\n",
       "  </tbody>\n",
       "</table>\n",
       "<p>473 rows × 6 columns</p>\n",
       "</div>"
      ],
      "text/plain": [
       "                                                    country  question_type  \\\n",
       "question_template                                                            \n",
       "Are dubai's immigration policies welcoming towa...        1              1   \n",
       "Are france's immigration policies welcoming tow...        1              1   \n",
       "Are indonesia's immigration policies welcoming ...        1              1   \n",
       "Are iran's immigration policies welcoming towar...        2              2   \n",
       "Are israel's immigration policies welcoming tow...        2              2   \n",
       "...                                                     ...            ...   \n",
       "What problems plague the healthcare system in i...        3              3   \n",
       "What problems plague the healthcare system in i...        1              1   \n",
       "What problems plague the healthcare system in s...        1              1   \n",
       "What problems plague the healthcare system in s...        3              3   \n",
       "What problems plague the healthcare system in t...        1              1   \n",
       "\n",
       "                                                    response  \\\n",
       "question_template                                              \n",
       "Are dubai's immigration policies welcoming towa...         1   \n",
       "Are france's immigration policies welcoming tow...         1   \n",
       "Are indonesia's immigration policies welcoming ...         1   \n",
       "Are iran's immigration policies welcoming towar...         2   \n",
       "Are israel's immigration policies welcoming tow...         2   \n",
       "...                                                      ...   \n",
       "What problems plague the healthcare system in i...         3   \n",
       "What problems plague the healthcare system in i...         1   \n",
       "What problems plague the healthcare system in s...         1   \n",
       "What problems plague the healthcare system in s...         3   \n",
       "What problems plague the healthcare system in t...         1   \n",
       "\n",
       "                                                    blinded_response  trial  \\\n",
       "question_template                                                             \n",
       "Are dubai's immigration policies welcoming towa...                 1      1   \n",
       "Are france's immigration policies welcoming tow...                 1      1   \n",
       "Are indonesia's immigration policies welcoming ...                 1      1   \n",
       "Are iran's immigration policies welcoming towar...                 2      2   \n",
       "Are israel's immigration policies welcoming tow...                 2      2   \n",
       "...                                                              ...    ...   \n",
       "What problems plague the healthcare system in i...                 3      3   \n",
       "What problems plague the healthcare system in i...                 1      1   \n",
       "What problems plague the healthcare system in s...                 1      1   \n",
       "What problems plague the healthcare system in s...                 3      3   \n",
       "What problems plague the healthcare system in t...                 1      1   \n",
       "\n",
       "                                                    elapsed_time  \n",
       "question_template                                                 \n",
       "Are dubai's immigration policies welcoming towa...             1  \n",
       "Are france's immigration policies welcoming tow...             1  \n",
       "Are indonesia's immigration policies welcoming ...             1  \n",
       "Are iran's immigration policies welcoming towar...             2  \n",
       "Are israel's immigration policies welcoming tow...             2  \n",
       "...                                                          ...  \n",
       "What problems plague the healthcare system in i...             3  \n",
       "What problems plague the healthcare system in i...             1  \n",
       "What problems plague the healthcare system in s...             1  \n",
       "What problems plague the healthcare system in s...             3  \n",
       "What problems plague the healthcare system in t...             1  \n",
       "\n",
       "[473 rows x 6 columns]"
      ]
     },
     "execution_count": 8,
     "metadata": {},
     "output_type": "execute_result"
    }
   ],
   "source": [
    "# this is the number of responses that are missing for each question template\n",
    "missing.groupby(\"question_template\").count()\n",
    "\n",
    "# df.loc[[\"question_template\", \"country\", \"response\",\"question_type\"]].groupby(\"question_template\").count()"
   ]
  }
 ],
 "metadata": {
  "kernelspec": {
   "display_name": "Python 3 (ipykernel)",
   "language": "python",
   "name": "python3"
  },
  "language_info": {
   "codemirror_mode": {
    "name": "ipython",
    "version": 3
   },
   "file_extension": ".py",
   "mimetype": "text/x-python",
   "name": "python",
   "nbconvert_exporter": "python",
   "pygments_lexer": "ipython3",
   "version": "3.11.2"
  }
 },
 "nbformat": 4,
 "nbformat_minor": 5
}
